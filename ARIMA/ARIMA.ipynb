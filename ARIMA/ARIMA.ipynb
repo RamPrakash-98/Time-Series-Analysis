{
 "cells": [
  {
   "cell_type": "markdown",
   "metadata": {},
   "source": [
    "# ARMA AND ARIMA TIME SERIES ANALYSIS"
   ]
  },
  {
   "cell_type": "markdown",
   "metadata": {},
   "source": [
    "### IMPORTING LIBRARIES"
   ]
  },
  {
   "cell_type": "code",
   "execution_count": 1,
   "metadata": {},
   "outputs": [],
   "source": [
    "import pandas as pd\n",
    "import numpy as np\n",
    "from pmdarima import auto_arima\n",
    "import seaborn as sb\n",
    "import matplotlib.pyplot as plt\n",
    "plt.rcParams['figure.figsize']=(15,6)\n",
    "\n",
    "%matplotlib inline\n",
    "\n",
    "from warnings import filterwarnings\n",
    "filterwarnings('ignore')"
   ]
  },
  {
   "cell_type": "code",
   "execution_count": 2,
   "metadata": {},
   "outputs": [],
   "source": [
    "import statsmodels.api as sm\n",
    "from statsmodels.tsa.stattools import acf,acovf,pacf,pacf_ols,pacf_yw"
   ]
  },
  {
   "cell_type": "code",
   "execution_count": 3,
   "metadata": {},
   "outputs": [],
   "source": [
    "df=pd.read_csv(\"F:\\\\DS,Courses\\\\Udemy - Python for Time Series Data Analysis\\\\TSA_COURSE_NOTEBOOKS\\Data\\\\airline_passengers.csv\",index_col='Month',parse_dates=True)\n",
    "df.index.freq='MS'\n",
    "\n",
    "df1=pd.read_csv(\"F:\\\\DS,Courses\\\\Udemy - Python for Time Series Data Analysis\\\\TSA_COURSE_NOTEBOOKS\\Data\\\\DailyTotalFemaleBirths.csv\",index_col='Date',parse_dates=True)\n",
    "df1.index.freq='D'"
   ]
  },
  {
   "cell_type": "code",
   "execution_count": 4,
   "metadata": {},
   "outputs": [
    {
     "data": {
      "text/html": [
       "<div>\n",
       "<style scoped>\n",
       "    .dataframe tbody tr th:only-of-type {\n",
       "        vertical-align: middle;\n",
       "    }\n",
       "\n",
       "    .dataframe tbody tr th {\n",
       "        vertical-align: top;\n",
       "    }\n",
       "\n",
       "    .dataframe thead th {\n",
       "        text-align: right;\n",
       "    }\n",
       "</style>\n",
       "<table border=\"1\" class=\"dataframe\">\n",
       "  <thead>\n",
       "    <tr style=\"text-align: right;\">\n",
       "      <th></th>\n",
       "      <th>Thousands of Passengers</th>\n",
       "    </tr>\n",
       "    <tr>\n",
       "      <th>Month</th>\n",
       "      <th></th>\n",
       "    </tr>\n",
       "  </thead>\n",
       "  <tbody>\n",
       "    <tr>\n",
       "      <th>1949-01-01</th>\n",
       "      <td>112</td>\n",
       "    </tr>\n",
       "    <tr>\n",
       "      <th>1949-02-01</th>\n",
       "      <td>118</td>\n",
       "    </tr>\n",
       "    <tr>\n",
       "      <th>1949-03-01</th>\n",
       "      <td>132</td>\n",
       "    </tr>\n",
       "    <tr>\n",
       "      <th>1949-04-01</th>\n",
       "      <td>129</td>\n",
       "    </tr>\n",
       "    <tr>\n",
       "      <th>1949-05-01</th>\n",
       "      <td>121</td>\n",
       "    </tr>\n",
       "  </tbody>\n",
       "</table>\n",
       "</div>"
      ],
      "text/plain": [
       "            Thousands of Passengers\n",
       "Month                              \n",
       "1949-01-01                      112\n",
       "1949-02-01                      118\n",
       "1949-03-01                      132\n",
       "1949-04-01                      129\n",
       "1949-05-01                      121"
      ]
     },
     "execution_count": 4,
     "metadata": {},
     "output_type": "execute_result"
    }
   ],
   "source": [
    "df.head()"
   ]
  },
  {
   "cell_type": "code",
   "execution_count": 5,
   "metadata": {},
   "outputs": [
    {
     "name": "stdout",
     "output_type": "stream",
     "text": [
      "                               SARIMAX Results                                \n",
      "==============================================================================\n",
      "Dep. Variable:                      y   No. Observations:                  365\n",
      "Model:               SARIMAX(1, 1, 1)   Log Likelihood               -1226.537\n",
      "Date:                Tue, 01 Dec 2020   AIC                           2459.074\n",
      "Time:                        14:00:18   BIC                           2470.766\n",
      "Sample:                             0   HQIC                          2463.721\n",
      "                                - 365                                         \n",
      "Covariance Type:                  opg                                         \n",
      "==============================================================================\n",
      "                 coef    std err          z      P>|z|      [0.025      0.975]\n",
      "------------------------------------------------------------------------------\n",
      "ar.L1          0.1252      0.060      2.097      0.036       0.008       0.242\n",
      "ma.L1         -0.9624      0.017    -56.429      0.000      -0.996      -0.929\n",
      "sigma2        49.1512      3.250     15.122      0.000      42.781      55.522\n",
      "===================================================================================\n",
      "Ljung-Box (Q):                       37.21   Jarque-Bera (JB):                25.33\n",
      "Prob(Q):                              0.60   Prob(JB):                         0.00\n",
      "Heteroskedasticity (H):               0.96   Skew:                             0.57\n",
      "Prob(H) (two-sided):                  0.81   Kurtosis:                         3.60\n",
      "===================================================================================\n",
      "\n",
      "Warnings:\n",
      "[1] Covariance matrix calculated using the outer product of gradients (complex-step).\n"
     ]
    }
   ],
   "source": [
    "print(auto_arima(df1['Births']).summary())"
   ]
  },
  {
   "cell_type": "code",
   "execution_count": 6,
   "metadata": {},
   "outputs": [
    {
     "name": "stdout",
     "output_type": "stream",
     "text": [
      "                               SARIMAX Results                                \n",
      "==============================================================================\n",
      "Dep. Variable:                      y   No. Observations:                  144\n",
      "Model:               SARIMAX(4, 1, 3)   Log Likelihood                -674.913\n",
      "Date:                Tue, 01 Dec 2020   AIC                           1365.825\n",
      "Time:                        14:00:29   BIC                           1389.528\n",
      "Sample:                             0   HQIC                          1375.457\n",
      "                                - 144                                         \n",
      "Covariance Type:                  opg                                         \n",
      "==============================================================================\n",
      "                 coef    std err          z      P>|z|      [0.025      0.975]\n",
      "------------------------------------------------------------------------------\n",
      "ar.L1         -0.5582      0.117     -4.782      0.000      -0.787      -0.329\n",
      "ar.L2          0.4935      0.113      4.375      0.000       0.272       0.715\n",
      "ar.L3          0.1238      0.128      0.970      0.332      -0.126       0.374\n",
      "ar.L4         -0.5213      0.085     -6.136      0.000      -0.688      -0.355\n",
      "ma.L1          0.9069      0.094      9.657      0.000       0.723       1.091\n",
      "ma.L2         -0.5590      0.145     -3.866      0.000      -0.842      -0.276\n",
      "ma.L3         -0.7385      0.109     -6.778      0.000      -0.952      -0.525\n",
      "sigma2       724.1713     85.615      8.458      0.000     556.368     891.974\n",
      "===================================================================================\n",
      "Ljung-Box (Q):                      256.02   Jarque-Bera (JB):                14.59\n",
      "Prob(Q):                              0.00   Prob(JB):                         0.00\n",
      "Heteroskedasticity (H):               5.66   Skew:                             0.74\n",
      "Prob(H) (two-sided):                  0.00   Kurtosis:                         3.52\n",
      "===================================================================================\n",
      "\n",
      "Warnings:\n",
      "[1] Covariance matrix calculated using the outer product of gradients (complex-step).\n"
     ]
    }
   ],
   "source": [
    "print(auto_arima(df['Thousands of Passengers'],seasonal=False).summary())"
   ]
  },
  {
   "cell_type": "code",
   "execution_count": 7,
   "metadata": {},
   "outputs": [],
   "source": [
    "from statsmodels.tsa.arima_model import ARIMA,ARIMAResults,ARMA,ARMAResults"
   ]
  },
  {
   "cell_type": "code",
   "execution_count": 8,
   "metadata": {},
   "outputs": [],
   "source": [
    "from statsmodels.graphics.tsaplots import plot_acf,plot_pacf"
   ]
  },
  {
   "cell_type": "code",
   "execution_count": 9,
   "metadata": {},
   "outputs": [],
   "source": [
    "df2=pd.read_csv(\"F:\\\\DS,Courses\\\\Udemy - Python for Time Series Data Analysis\\\\TSA_COURSE_NOTEBOOKS\\Data\\\\TradeInventories.csv\",index_col='Date',parse_dates=True)\n",
    "df2.index.freq='MS'"
   ]
  },
  {
   "cell_type": "markdown",
   "metadata": {},
   "source": [
    "## ARMA"
   ]
  },
  {
   "cell_type": "code",
   "execution_count": 10,
   "metadata": {},
   "outputs": [],
   "source": [
    "from statsmodels.tsa.stattools import adfuller\n",
    "\n",
    "def adf_test(series,title=''):\n",
    "    \"\"\"\n",
    "    Pass in a time series and an optional title, returns an ADF report\n",
    "    \"\"\"\n",
    "    print(f'Augmented Dickey-Fuller Test: {title}')\n",
    "    result = adfuller(series.dropna(),autolag='AIC') # .dropna() handles differenced data\n",
    "    \n",
    "    labels = ['ADF test statistic','p-value','# lags used','# observations']\n",
    "    out = pd.Series(result[0:4],index=labels)\n",
    "\n",
    "    for key,val in result[4].items():\n",
    "        out[f'critical value ({key})']=val\n",
    "        \n",
    "    print(out.to_string())          # .to_string() removes the line \"dtype: float64\"\n",
    "    \n",
    "    if result[1] <= 0.05:\n",
    "        print(\"Strong evidence against the null hypothesis\")\n",
    "        print(\"Reject the null hypothesis\")\n",
    "        print(\"Data has no unit root and is stationary\")\n",
    "    else:\n",
    "        print(\"Weak evidence against the null hypothesis\")\n",
    "        print(\"Fail to reject the null hypothesis\")\n",
    "        print(\"Data has a unit root and is non-stationary\")"
   ]
  },
  {
   "cell_type": "code",
   "execution_count": 11,
   "metadata": {},
   "outputs": [
    {
     "name": "stdout",
     "output_type": "stream",
     "text": [
      "Augmented Dickey-Fuller Test: \n",
      "ADF test statistic       -4.808291\n",
      "p-value                   0.000052\n",
      "# lags used               6.000000\n",
      "# observations          358.000000\n",
      "critical value (1%)      -3.448749\n",
      "critical value (5%)      -2.869647\n",
      "critical value (10%)     -2.571089\n",
      "Strong evidence against the null hypothesis\n",
      "Reject the null hypothesis\n",
      "Data has no unit root and is stationary\n"
     ]
    }
   ],
   "source": [
    "adf_test(df1['Births'])"
   ]
  },
  {
   "cell_type": "code",
   "execution_count": 12,
   "metadata": {},
   "outputs": [
    {
     "name": "stdout",
     "output_type": "stream",
     "text": [
      "Augmented Dickey-Fuller Test: \n",
      "ADF test statistic       -0.087684\n",
      "p-value                   0.950652\n",
      "# lags used               5.000000\n",
      "# observations          258.000000\n",
      "critical value (1%)      -3.455953\n",
      "critical value (5%)      -2.872809\n",
      "critical value (10%)     -2.572775\n",
      "Weak evidence against the null hypothesis\n",
      "Fail to reject the null hypothesis\n",
      "Data has a unit root and is non-stationary\n"
     ]
    }
   ],
   "source": [
    "adf_test(df2['Inventories'])"
   ]
  },
  {
   "cell_type": "code",
   "execution_count": 13,
   "metadata": {},
   "outputs": [
    {
     "data": {
      "text/html": [
       "<table class=\"simpletable\">\n",
       "<caption>SARIMAX Results</caption>\n",
       "<tr>\n",
       "  <th>Dep. Variable:</th>           <td>y</td>        <th>  No. Observations:  </th>    <td>264</td>   \n",
       "</tr>\n",
       "<tr>\n",
       "  <th>Model:</th>           <td>SARIMAX(0, 1, 0)</td> <th>  Log Likelihood     </th> <td>-2672.018</td>\n",
       "</tr>\n",
       "<tr>\n",
       "  <th>Date:</th>            <td>Tue, 01 Dec 2020</td> <th>  AIC                </th> <td>5348.037</td> \n",
       "</tr>\n",
       "<tr>\n",
       "  <th>Time:</th>                <td>14:00:31</td>     <th>  BIC                </th> <td>5355.181</td> \n",
       "</tr>\n",
       "<tr>\n",
       "  <th>Sample:</th>                  <td>0</td>        <th>  HQIC               </th> <td>5350.908</td> \n",
       "</tr>\n",
       "<tr>\n",
       "  <th></th>                      <td> - 264</td>      <th>                     </th>     <td> </td>    \n",
       "</tr>\n",
       "<tr>\n",
       "  <th>Covariance Type:</th>        <td>opg</td>       <th>                     </th>     <td> </td>    \n",
       "</tr>\n",
       "</table>\n",
       "<table class=\"simpletable\">\n",
       "<tr>\n",
       "      <td></td>         <th>coef</th>     <th>std err</th>      <th>z</th>      <th>P>|z|</th>  <th>[0.025</th>    <th>0.975]</th>  \n",
       "</tr>\n",
       "<tr>\n",
       "  <th>intercept</th> <td> 3258.3802</td> <td>  470.991</td> <td>    6.918</td> <td> 0.000</td> <td> 2335.255</td> <td> 4181.506</td>\n",
       "</tr>\n",
       "<tr>\n",
       "  <th>sigma2</th>    <td>  3.91e+07</td> <td> 2.95e+06</td> <td>   13.250</td> <td> 0.000</td> <td> 3.33e+07</td> <td> 4.49e+07</td>\n",
       "</tr>\n",
       "</table>\n",
       "<table class=\"simpletable\">\n",
       "<tr>\n",
       "  <th>Ljung-Box (Q):</th>          <td>455.75</td> <th>  Jarque-Bera (JB):  </th> <td>100.74</td>\n",
       "</tr>\n",
       "<tr>\n",
       "  <th>Prob(Q):</th>                 <td>0.00</td>  <th>  Prob(JB):          </th>  <td>0.00</td> \n",
       "</tr>\n",
       "<tr>\n",
       "  <th>Heteroskedasticity (H):</th>  <td>0.86</td>  <th>  Skew:              </th>  <td>-1.15</td>\n",
       "</tr>\n",
       "<tr>\n",
       "  <th>Prob(H) (two-sided):</th>     <td>0.48</td>  <th>  Kurtosis:          </th>  <td>4.98</td> \n",
       "</tr>\n",
       "</table><br/><br/>Warnings:<br/>[1] Covariance matrix calculated using the outer product of gradients (complex-step)."
      ],
      "text/plain": [
       "<class 'statsmodels.iolib.summary.Summary'>\n",
       "\"\"\"\n",
       "                               SARIMAX Results                                \n",
       "==============================================================================\n",
       "Dep. Variable:                      y   No. Observations:                  264\n",
       "Model:               SARIMAX(0, 1, 0)   Log Likelihood               -2672.018\n",
       "Date:                Tue, 01 Dec 2020   AIC                           5348.037\n",
       "Time:                        14:00:31   BIC                           5355.181\n",
       "Sample:                             0   HQIC                          5350.908\n",
       "                                - 264                                         \n",
       "Covariance Type:                  opg                                         \n",
       "==============================================================================\n",
       "                 coef    std err          z      P>|z|      [0.025      0.975]\n",
       "------------------------------------------------------------------------------\n",
       "intercept   3258.3802    470.991      6.918      0.000    2335.255    4181.506\n",
       "sigma2       3.91e+07   2.95e+06     13.250      0.000    3.33e+07    4.49e+07\n",
       "===================================================================================\n",
       "Ljung-Box (Q):                      455.75   Jarque-Bera (JB):               100.74\n",
       "Prob(Q):                              0.00   Prob(JB):                         0.00\n",
       "Heteroskedasticity (H):               0.86   Skew:                            -1.15\n",
       "Prob(H) (two-sided):                  0.48   Kurtosis:                         4.98\n",
       "===================================================================================\n",
       "\n",
       "Warnings:\n",
       "[1] Covariance matrix calculated using the outer product of gradients (complex-step).\n",
       "\"\"\""
      ]
     },
     "execution_count": 13,
     "metadata": {},
     "output_type": "execute_result"
    }
   ],
   "source": [
    "auto_arima(df2['Inventories'],seasonal=False).summary()"
   ]
  },
  {
   "cell_type": "code",
   "execution_count": 14,
   "metadata": {},
   "outputs": [],
   "source": [
    "train=df1.iloc[:90]\n",
    "test=df1.iloc[90:]"
   ]
  },
  {
   "cell_type": "code",
   "execution_count": 15,
   "metadata": {},
   "outputs": [],
   "source": [
    "model1=ARMA(test['Births'],order=(2,2))"
   ]
  },
  {
   "cell_type": "code",
   "execution_count": 16,
   "metadata": {},
   "outputs": [],
   "source": [
    "result1=model1.fit()"
   ]
  },
  {
   "cell_type": "code",
   "execution_count": 17,
   "metadata": {},
   "outputs": [
    {
     "data": {
      "text/html": [
       "<table class=\"simpletable\">\n",
       "<caption>ARMA Model Results</caption>\n",
       "<tr>\n",
       "  <th>Dep. Variable:</th>      <td>Births</td>      <th>  No. Observations:  </th>    <td>275</td>  \n",
       "</tr>\n",
       "<tr>\n",
       "  <th>Model:</th>            <td>ARMA(2, 2)</td>    <th>  Log Likelihood     </th> <td>-917.627</td>\n",
       "</tr>\n",
       "<tr>\n",
       "  <th>Method:</th>             <td>css-mle</td>     <th>  S.D. of innovations</th>   <td>6.801</td> \n",
       "</tr>\n",
       "<tr>\n",
       "  <th>Date:</th>          <td>Tue, 01 Dec 2020</td> <th>  AIC                </th> <td>1847.254</td>\n",
       "</tr>\n",
       "<tr>\n",
       "  <th>Time:</th>              <td>14:00:32</td>     <th>  BIC                </th> <td>1868.955</td>\n",
       "</tr>\n",
       "<tr>\n",
       "  <th>Sample:</th>           <td>04-01-1959</td>    <th>  HQIC               </th> <td>1855.963</td>\n",
       "</tr>\n",
       "<tr>\n",
       "  <th></th>                 <td>- 12-31-1959</td>   <th>                     </th>     <td> </td>   \n",
       "</tr>\n",
       "</table>\n",
       "<table class=\"simpletable\">\n",
       "<tr>\n",
       "        <td></td>          <th>coef</th>     <th>std err</th>      <th>z</th>      <th>P>|z|</th>  <th>[0.025</th>    <th>0.975]</th>  \n",
       "</tr>\n",
       "<tr>\n",
       "  <th>const</th>        <td>   42.3996</td> <td>    1.553</td> <td>   27.298</td> <td> 0.000</td> <td>   39.355</td> <td>   45.444</td>\n",
       "</tr>\n",
       "<tr>\n",
       "  <th>ar.L1.Births</th> <td>    1.2867</td> <td>    0.393</td> <td>    3.276</td> <td> 0.001</td> <td>    0.517</td> <td>    2.056</td>\n",
       "</tr>\n",
       "<tr>\n",
       "  <th>ar.L2.Births</th> <td>   -0.2978</td> <td>    0.385</td> <td>   -0.774</td> <td> 0.439</td> <td>   -1.052</td> <td>    0.456</td>\n",
       "</tr>\n",
       "<tr>\n",
       "  <th>ma.L1.Births</th> <td>   -1.1160</td> <td>    0.402</td> <td>   -2.779</td> <td> 0.005</td> <td>   -1.903</td> <td>   -0.329</td>\n",
       "</tr>\n",
       "<tr>\n",
       "  <th>ma.L2.Births</th> <td>    0.1636</td> <td>    0.370</td> <td>    0.442</td> <td> 0.658</td> <td>   -0.561</td> <td>    0.888</td>\n",
       "</tr>\n",
       "</table>\n",
       "<table class=\"simpletable\">\n",
       "<caption>Roots</caption>\n",
       "<tr>\n",
       "    <td></td>   <th>            Real</th>  <th>         Imaginary</th> <th>         Modulus</th>  <th>        Frequency</th>\n",
       "</tr>\n",
       "<tr>\n",
       "  <th>AR.1</th> <td>           1.0162</td> <td>          +0.0000j</td> <td>           1.0162</td> <td>           0.0000</td>\n",
       "</tr>\n",
       "<tr>\n",
       "  <th>AR.2</th> <td>           3.3043</td> <td>          +0.0000j</td> <td>           3.3043</td> <td>           0.0000</td>\n",
       "</tr>\n",
       "<tr>\n",
       "  <th>MA.1</th> <td>           1.0611</td> <td>          +0.0000j</td> <td>           1.0611</td> <td>           0.0000</td>\n",
       "</tr>\n",
       "<tr>\n",
       "  <th>MA.2</th> <td>           5.7616</td> <td>          +0.0000j</td> <td>           5.7616</td> <td>           0.0000</td>\n",
       "</tr>\n",
       "</table>"
      ],
      "text/plain": [
       "<class 'statsmodels.iolib.summary.Summary'>\n",
       "\"\"\"\n",
       "                              ARMA Model Results                              \n",
       "==============================================================================\n",
       "Dep. Variable:                 Births   No. Observations:                  275\n",
       "Model:                     ARMA(2, 2)   Log Likelihood                -917.627\n",
       "Method:                       css-mle   S.D. of innovations              6.801\n",
       "Date:                Tue, 01 Dec 2020   AIC                           1847.254\n",
       "Time:                        14:00:32   BIC                           1868.955\n",
       "Sample:                    04-01-1959   HQIC                          1855.963\n",
       "                         - 12-31-1959                                         \n",
       "================================================================================\n",
       "                   coef    std err          z      P>|z|      [0.025      0.975]\n",
       "--------------------------------------------------------------------------------\n",
       "const           42.3996      1.553     27.298      0.000      39.355      45.444\n",
       "ar.L1.Births     1.2867      0.393      3.276      0.001       0.517       2.056\n",
       "ar.L2.Births    -0.2978      0.385     -0.774      0.439      -1.052       0.456\n",
       "ma.L1.Births    -1.1160      0.402     -2.779      0.005      -1.903      -0.329\n",
       "ma.L2.Births     0.1636      0.370      0.442      0.658      -0.561       0.888\n",
       "                                    Roots                                    \n",
       "=============================================================================\n",
       "                  Real          Imaginary           Modulus         Frequency\n",
       "-----------------------------------------------------------------------------\n",
       "AR.1            1.0162           +0.0000j            1.0162            0.0000\n",
       "AR.2            3.3043           +0.0000j            3.3043            0.0000\n",
       "MA.1            1.0611           +0.0000j            1.0611            0.0000\n",
       "MA.2            5.7616           +0.0000j            5.7616            0.0000\n",
       "-----------------------------------------------------------------------------\n",
       "\"\"\""
      ]
     },
     "execution_count": 17,
     "metadata": {},
     "output_type": "execute_result"
    }
   ],
   "source": [
    "result1.summary()"
   ]
  },
  {
   "cell_type": "code",
   "execution_count": 18,
   "metadata": {},
   "outputs": [],
   "source": [
    "start=len(train)\n",
    "end=len(train) + len(test)-1"
   ]
  },
  {
   "cell_type": "code",
   "execution_count": 19,
   "metadata": {},
   "outputs": [],
   "source": [
    "pred1=result1.predict(start=start,end=end).rename(\"ARMA(2,2) Predictions\")"
   ]
  },
  {
   "cell_type": "code",
   "execution_count": 20,
   "metadata": {},
   "outputs": [
    {
     "data": {
      "text/plain": [
       "<AxesSubplot:xlabel='Date'>"
      ]
     },
     "execution_count": 20,
     "metadata": {},
     "output_type": "execute_result"
    },
    {
     "data": {
      "image/png": "[encoded data removed]",
      "text/plain": [
       "<Figure size 1080x360 with 1 Axes>"
      ]
     },
     "metadata": {
      "needs_background": "light"
     },
     "output_type": "display_data"
    }
   ],
   "source": [
    "test['Births']['1959-10'].plot(legend=True,figsize=(15,5))\n",
    "pred1['1959-10'].plot(legend=True,figsize=(15,5))"
   ]
  },
  {
   "cell_type": "code",
   "execution_count": 21,
   "metadata": {},
   "outputs": [
    {
     "data": {
      "text/plain": [
       "Births    42.705455\n",
       "dtype: float64"
      ]
     },
     "execution_count": 21,
     "metadata": {},
     "output_type": "execute_result"
    }
   ],
   "source": [
    "test.mean()"
   ]
  },
  {
   "cell_type": "code",
   "execution_count": 22,
   "metadata": {},
   "outputs": [
    {
     "data": {
      "text/plain": [
       "43.390117668345006"
      ]
     },
     "execution_count": 22,
     "metadata": {},
     "output_type": "execute_result"
    }
   ],
   "source": [
    "pred1.mean()"
   ]
  },
  {
   "cell_type": "code",
   "execution_count": 23,
   "metadata": {},
   "outputs": [
    {
     "data": {
      "text/plain": [
       "<AxesSubplot:xlabel='Date'>"
      ]
     },
     "execution_count": 23,
     "metadata": {},
     "output_type": "execute_result"
    },
    {
     "data": {
      "image/png": "[encoded data removed]",
      "text/plain": [
       "<Figure size 1080x432 with 1 Axes>"
      ]
     },
     "metadata": {
      "needs_background": "light"
     },
     "output_type": "display_data"
    }
   ],
   "source": [
    "df2.plot(figsize=(15,6))"
   ]
  },
  {
   "cell_type": "code",
   "execution_count": 24,
   "metadata": {},
   "outputs": [],
   "source": [
    "from statsmodels.tsa.statespace.tools import diff"
   ]
  },
  {
   "cell_type": "code",
   "execution_count": 25,
   "metadata": {},
   "outputs": [],
   "source": [
    "df2['Diff']=diff(df2['Inventories'],k_diff=1)"
   ]
  },
  {
   "cell_type": "code",
   "execution_count": 26,
   "metadata": {},
   "outputs": [
    {
     "data": {
      "text/html": [
       "<div>\n",
       "<style scoped>\n",
       "    .dataframe tbody tr th:only-of-type {\n",
       "        vertical-align: middle;\n",
       "    }\n",
       "\n",
       "    .dataframe tbody tr th {\n",
       "        vertical-align: top;\n",
       "    }\n",
       "\n",
       "    .dataframe thead th {\n",
       "        text-align: right;\n",
       "    }\n",
       "</style>\n",
       "<table border=\"1\" class=\"dataframe\">\n",
       "  <thead>\n",
       "    <tr style=\"text-align: right;\">\n",
       "      <th></th>\n",
       "      <th>Inventories</th>\n",
       "      <th>Diff</th>\n",
       "    </tr>\n",
       "    <tr>\n",
       "      <th>Date</th>\n",
       "      <th></th>\n",
       "      <th></th>\n",
       "    </tr>\n",
       "  </thead>\n",
       "  <tbody>\n",
       "    <tr>\n",
       "      <th>1997-01-01</th>\n",
       "      <td>1301161</td>\n",
       "      <td>NaN</td>\n",
       "    </tr>\n",
       "    <tr>\n",
       "      <th>1997-02-01</th>\n",
       "      <td>1307080</td>\n",
       "      <td>5919.0</td>\n",
       "    </tr>\n",
       "    <tr>\n",
       "      <th>1997-03-01</th>\n",
       "      <td>1303978</td>\n",
       "      <td>-3102.0</td>\n",
       "    </tr>\n",
       "    <tr>\n",
       "      <th>1997-04-01</th>\n",
       "      <td>1319740</td>\n",
       "      <td>15762.0</td>\n",
       "    </tr>\n",
       "    <tr>\n",
       "      <th>1997-05-01</th>\n",
       "      <td>1327294</td>\n",
       "      <td>7554.0</td>\n",
       "    </tr>\n",
       "    <tr>\n",
       "      <th>...</th>\n",
       "      <td>...</td>\n",
       "      <td>...</td>\n",
       "    </tr>\n",
       "    <tr>\n",
       "      <th>2018-08-01</th>\n",
       "      <td>2127170</td>\n",
       "      <td>7552.0</td>\n",
       "    </tr>\n",
       "    <tr>\n",
       "      <th>2018-09-01</th>\n",
       "      <td>2134172</td>\n",
       "      <td>7002.0</td>\n",
       "    </tr>\n",
       "    <tr>\n",
       "      <th>2018-10-01</th>\n",
       "      <td>2144639</td>\n",
       "      <td>10467.0</td>\n",
       "    </tr>\n",
       "    <tr>\n",
       "      <th>2018-11-01</th>\n",
       "      <td>2143001</td>\n",
       "      <td>-1638.0</td>\n",
       "    </tr>\n",
       "    <tr>\n",
       "      <th>2018-12-01</th>\n",
       "      <td>2158115</td>\n",
       "      <td>15114.0</td>\n",
       "    </tr>\n",
       "  </tbody>\n",
       "</table>\n",
       "<p>264 rows × 2 columns</p>\n",
       "</div>"
      ],
      "text/plain": [
       "            Inventories     Diff\n",
       "Date                            \n",
       "1997-01-01      1301161      NaN\n",
       "1997-02-01      1307080   5919.0\n",
       "1997-03-01      1303978  -3102.0\n",
       "1997-04-01      1319740  15762.0\n",
       "1997-05-01      1327294   7554.0\n",
       "...                 ...      ...\n",
       "2018-08-01      2127170   7552.0\n",
       "2018-09-01      2134172   7002.0\n",
       "2018-10-01      2144639  10467.0\n",
       "2018-11-01      2143001  -1638.0\n",
       "2018-12-01      2158115  15114.0\n",
       "\n",
       "[264 rows x 2 columns]"
      ]
     },
     "execution_count": 26,
     "metadata": {},
     "output_type": "execute_result"
    }
   ],
   "source": [
    "df2"
   ]
  },
  {
   "cell_type": "code",
   "execution_count": 27,
   "metadata": {},
   "outputs": [
    {
     "name": "stdout",
     "output_type": "stream",
     "text": [
      "Augmented Dickey-Fuller Test: \n",
      "ADF test statistic       -3.412249\n",
      "p-value                   0.010548\n",
      "# lags used               4.000000\n",
      "# observations          258.000000\n",
      "critical value (1%)      -3.455953\n",
      "critical value (5%)      -2.872809\n",
      "critical value (10%)     -2.572775\n",
      "Strong evidence against the null hypothesis\n",
      "Reject the null hypothesis\n",
      "Data has no unit root and is stationary\n"
     ]
    }
   ],
   "source": [
    "adf_test(df2['Diff'])"
   ]
  },
  {
   "cell_type": "code",
   "execution_count": 28,
   "metadata": {},
   "outputs": [],
   "source": [
    "from statsmodels.tsa.seasonal import seasonal_decompose"
   ]
  },
  {
   "cell_type": "code",
   "execution_count": 29,
   "metadata": {},
   "outputs": [],
   "source": [
    "result=seasonal_decompose(df2['Inventories'],model='add')"
   ]
  },
  {
   "cell_type": "code",
   "execution_count": 30,
   "metadata": {},
   "outputs": [
    {
     "data": {
      "image/png": "[encoded data removed]",
      "text/plain": [
       "<Figure size 432x288 with 4 Axes>"
      ]
     },
     "metadata": {
      "needs_background": "light"
     },
     "output_type": "display_data"
    }
   ],
   "source": [
    "result.plot();"
   ]
  },
  {
   "cell_type": "code",
   "execution_count": 31,
   "metadata": {},
   "outputs": [],
   "source": [
    "train2=df2.iloc[:250]\n",
    "test2=df2.iloc[250:]"
   ]
  },
  {
   "cell_type": "code",
   "execution_count": 32,
   "metadata": {},
   "outputs": [],
   "source": [
    "model2=ARIMA(train2['Inventories'].astype('float64'),order=(0,1,0))\n",
    "result2=model2.fit()\n"
   ]
  },
  {
   "cell_type": "code",
   "execution_count": 33,
   "metadata": {},
   "outputs": [],
   "source": [
    "start=len(train2)\n",
    "end=len(train2)+len(test2)-1"
   ]
  },
  {
   "cell_type": "code",
   "execution_count": 34,
   "metadata": {},
   "outputs": [],
   "source": [
    "pred2=result2.predict(start=start,end=end,typ='levels').rename(\"ARIMA(0,1,0) Predictions\")"
   ]
  },
  {
   "cell_type": "code",
   "execution_count": 35,
   "metadata": {},
   "outputs": [
    {
     "data": {
      "text/plain": [
       "<AxesSubplot:xlabel='Date'>"
      ]
     },
     "execution_count": 35,
     "metadata": {},
     "output_type": "execute_result"
    },
    {
     "data": {
      "image/png": "[encoded data removed]",
      "text/plain": [
       "<Figure size 864x432 with 1 Axes>"
      ]
     },
     "metadata": {
      "needs_background": "light"
     },
     "output_type": "display_data"
    }
   ],
   "source": [
    "test2['Inventories'].plot(legend=True,figsize=(12,6))\n",
    "pred2.plot(legend=True,figsize=(12,6))"
   ]
  },
  {
   "cell_type": "markdown",
   "metadata": {},
   "source": [
    "### ERROR EVALUATION"
   ]
  },
  {
   "cell_type": "code",
   "execution_count": 36,
   "metadata": {},
   "outputs": [],
   "source": [
    "from statsmodels.tools.eval_measures import rmse,mse"
   ]
  },
  {
   "cell_type": "code",
   "execution_count": 37,
   "metadata": {},
   "outputs": [
    {
     "data": {
      "text/plain": [
       "7758.200673749268"
      ]
     },
     "execution_count": 37,
     "metadata": {},
     "output_type": "execute_result"
    }
   ],
   "source": [
    "rmse(test2['Inventories'],pred2)"
   ]
  },
  {
   "cell_type": "code",
   "execution_count": 38,
   "metadata": {},
   "outputs": [
    {
     "data": {
      "text/plain": [
       "60189677.694163606"
      ]
     },
     "execution_count": 38,
     "metadata": {},
     "output_type": "execute_result"
    }
   ],
   "source": [
    "mse(test2['Inventories'],pred2)"
   ]
  },
  {
   "cell_type": "markdown",
   "metadata": {},
   "source": [
    "\n",
    "\n",
    "\n",
    "\n",
    "### FORECASTING THE TIME SERIES USING ARIMA MODEL\n",
    "\n",
    "\n"
   ]
  },
  {
   "cell_type": "code",
   "execution_count": 39,
   "metadata": {},
   "outputs": [],
   "source": [
    "model_pred=ARIMA(df2['Inventories'].astype('float64'),order=(0,1,0))"
   ]
  },
  {
   "cell_type": "code",
   "execution_count": 40,
   "metadata": {},
   "outputs": [],
   "source": [
    "res_fore=model_pred.fit()"
   ]
  },
  {
   "cell_type": "code",
   "execution_count": 41,
   "metadata": {},
   "outputs": [],
   "source": [
    "fore=res_fore.predict(start=len(df2),end=len(df2)+20,typ='levels').rename(\"ARIMA (0,1,0) Forecast (20 Days)\")"
   ]
  },
  {
   "cell_type": "code",
   "execution_count": 42,
   "metadata": {},
   "outputs": [
    {
     "data": {
      "text/plain": [
       "<AxesSubplot:xlabel='Date'>"
      ]
     },
     "execution_count": 42,
     "metadata": {},
     "output_type": "execute_result"
    },
    {
     "data": {
      "image/png": "[encoded data removed]",
      "text/plain": [
       "<Figure size 864x432 with 1 Axes>"
      ]
     },
     "metadata": {
      "needs_background": "light"
     },
     "output_type": "display_data"
    }
   ],
   "source": [
    "df2['Inventories'].plot(figsize=(12,6),legend=True)\n",
    "fore.plot(figsize=(12,6),legend=True)"
   ]
  },
  {
   "cell_type": "code",
   "execution_count": null,
   "metadata": {},
   "outputs": [],
   "source": []
  }
 ],
 "metadata": {
  "kernelspec": {
   "display_name": "Python 3",
   "language": "python",
   "name": "python3"
  },
  "language_info": {
   "codemirror_mode": {
    "name": "ipython",
    "version": 3
   },
   "file_extension": ".py",
   "mimetype": "text/x-python",
   "name": "python",
   "nbconvert_exporter": "python",
   "pygments_lexer": "ipython3",
   "version": "3.7.7"
  }
 },
 "nbformat": 4,
 "nbformat_minor": 4
}
