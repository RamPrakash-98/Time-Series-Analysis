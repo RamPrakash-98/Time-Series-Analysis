{
 "cells": [
  {
   "cell_type": "code",
   "execution_count": 1,
   "metadata": {},
   "outputs": [
    {
     "name": "stderr",
     "output_type": "stream",
     "text": [
      "C:\\Users\\HP\\anaconda3\\envs\\myenv\\lib\\importlib\\_bootstrap.py:219: RuntimeWarning: numpy.ufunc size changed, may indicate binary incompatibility. Expected 192 from C header, got 216 from PyObject\n",
      "  return f(*args, **kwds)\n",
      "C:\\Users\\HP\\anaconda3\\envs\\myenv\\lib\\importlib\\_bootstrap.py:219: RuntimeWarning: numpy.ufunc size changed, may indicate binary incompatibility. Expected 192 from C header, got 216 from PyObject\n",
      "  return f(*args, **kwds)\n"
     ]
    }
   ],
   "source": [
    "import numpy as np\n",
    "import pandas as pd\n",
    "%matplotlib inline\n",
    "\n",
    "from pmdarima import auto_arima\n",
    "from statsmodels.tsa.statespace.varmax import VARMAX,VARMAXResults\n",
    "from statsmodels.tsa.stattools import adfuller\n",
    "    \n",
    "#To Ignore Warning messages\n",
    "\n",
    "import warnings\n",
    "warnings.filterwarnings('ignore')"
   ]
  },
  {
   "cell_type": "code",
   "execution_count": 2,
   "metadata": {},
   "outputs": [],
   "source": [
    "df=pd.read_csv(\"D:\\\\Udemy - Python for Time Series Data Analysis\\\\TSA_COURSE_NOTEBOOKS\\\\Data\\\\M2SL.csv\",index_col='DATE',parse_dates=True)\n",
    "\n",
    "sp=pd.read_csv(\"D:\\\\Udemy - Python for Time Series Data Analysis\\\\TSA_COURSE_NOTEBOOKS\\\\Data\\\\PCE.csv\",index_col='DATE',parse_dates=True)"
   ]
  },
  {
   "cell_type": "code",
   "execution_count": 3,
   "metadata": {},
   "outputs": [],
   "source": [
    "index=pd.date_range('1995-01-01','2020-10-01',freq='MS')"
   ]
  },
  {
   "cell_type": "code",
   "execution_count": 4,
   "metadata": {},
   "outputs": [],
   "source": [
    "df.index=index\n",
    "sp.index=index"
   ]
  },
  {
   "cell_type": "code",
   "execution_count": 5,
   "metadata": {},
   "outputs": [],
   "source": [
    "df=df.join(sp)\n",
    "df=df.iloc[:252]"
   ]
  },
  {
   "cell_type": "code",
   "execution_count": 6,
   "metadata": {},
   "outputs": [
    {
     "data": {
      "text/plain": [
       "<AxesSubplot:>"
      ]
     },
     "execution_count": 6,
     "metadata": {},
     "output_type": "execute_result"
    },
    {
     "data": {
      "image/png": "[encoded data removed]",
      "text/plain": [
       "<Figure size 864x432 with 1 Axes>"
      ]
     },
     "metadata": {
      "needs_background": "light"
     },
     "output_type": "display_data"
    }
   ],
   "source": [
    "df.plot(figsize=(12,6))"
   ]
  },
  {
   "cell_type": "code",
   "execution_count": 7,
   "metadata": {},
   "outputs": [],
   "source": [
    "df.columns=['Money','Spendings']"
   ]
  },
  {
   "cell_type": "code",
   "execution_count": 8,
   "metadata": {},
   "outputs": [],
   "source": [
    "def adf_test(series,title=''):\n",
    "    \"\"\"\n",
    "    Pass in a time series and an optional title, returns an ADF report\n",
    "    \"\"\"\n",
    "    print(f'Augmented Dickey-Fuller Test: {title}')\n",
    "    result = adfuller(series.dropna(),autolag='AIC') # .dropna() handles differenced data\n",
    "    \n",
    "    labels = ['ADF test statistic','p-value','# lags used','# observations']\n",
    "    out = pd.Series(result[0:4],index=labels)\n",
    "\n",
    "    for key,val in result[4].items():\n",
    "        out[f'critical value ({key})']=val\n",
    "        \n",
    "    print(out.to_string())          # .to_string() removes the line \"dtype: float64\"\n",
    "    \n",
    "    if result[1] <= 0.05:\n",
    "        print(\"Strong evidence against the null hypothesis\")\n",
    "        print(\"Reject the null hypothesis\")\n",
    "        print(\"Data has no unit root and is stationary\")\n",
    "    else:\n",
    "        print(\"Weak evidence against the null hypothesis\")\n",
    "        print(\"Fail to reject the null hypothesis\")\n",
    "        print(\"Data has a unit root and is non-stationary\")"
   ]
  },
  {
   "cell_type": "code",
   "execution_count": 9,
   "metadata": {},
   "outputs": [
    {
     "data": {
      "text/plain": [
       "ARIMA(maxiter=1000, order=(1, 2, 1), scoring_args={}, with_intercept=False)"
      ]
     },
     "execution_count": 9,
     "metadata": {},
     "output_type": "execute_result"
    }
   ],
   "source": [
    "auto_arima(df['Money'],maxiter=1000)"
   ]
  },
  {
   "cell_type": "code",
   "execution_count": 10,
   "metadata": {},
   "outputs": [
    {
     "data": {
      "text/plain": [
       "ARIMA(maxiter=1000, order=(1, 1, 2), scoring_args={})"
      ]
     },
     "execution_count": 10,
     "metadata": {},
     "output_type": "execute_result"
    }
   ],
   "source": [
    "auto_arima(df['Spendings'],maxiter=1000)"
   ]
  },
  {
   "cell_type": "code",
   "execution_count": 11,
   "metadata": {},
   "outputs": [],
   "source": [
    "df_transformed=df.diff().diff()"
   ]
  },
  {
   "cell_type": "code",
   "execution_count": 12,
   "metadata": {},
   "outputs": [],
   "source": [
    "df_transformed=df_transformed.dropna()"
   ]
  },
  {
   "cell_type": "code",
   "execution_count": 13,
   "metadata": {},
   "outputs": [
    {
     "data": {
      "text/html": [
       "<div>\n",
       "<style scoped>\n",
       "    .dataframe tbody tr th:only-of-type {\n",
       "        vertical-align: middle;\n",
       "    }\n",
       "\n",
       "    .dataframe tbody tr th {\n",
       "        vertical-align: top;\n",
       "    }\n",
       "\n",
       "    .dataframe thead th {\n",
       "        text-align: right;\n",
       "    }\n",
       "</style>\n",
       "<table border=\"1\" class=\"dataframe\">\n",
       "  <thead>\n",
       "    <tr style=\"text-align: right;\">\n",
       "      <th></th>\n",
       "      <th>Money</th>\n",
       "      <th>Spendings</th>\n",
       "    </tr>\n",
       "  </thead>\n",
       "  <tbody>\n",
       "    <tr>\n",
       "      <th>1995-03-01</th>\n",
       "      <td>3.7</td>\n",
       "      <td>35.0</td>\n",
       "    </tr>\n",
       "    <tr>\n",
       "      <th>1995-04-01</th>\n",
       "      <td>6.9</td>\n",
       "      <td>-29.8</td>\n",
       "    </tr>\n",
       "    <tr>\n",
       "      <th>1995-05-01</th>\n",
       "      <td>16.9</td>\n",
       "      <td>38.1</td>\n",
       "    </tr>\n",
       "    <tr>\n",
       "      <th>1995-06-01</th>\n",
       "      <td>-0.3</td>\n",
       "      <td>1.5</td>\n",
       "    </tr>\n",
       "    <tr>\n",
       "      <th>1995-07-01</th>\n",
       "      <td>-6.2</td>\n",
       "      <td>-51.7</td>\n",
       "    </tr>\n",
       "  </tbody>\n",
       "</table>\n",
       "</div>"
      ],
      "text/plain": [
       "            Money  Spendings\n",
       "1995-03-01    3.7       35.0\n",
       "1995-04-01    6.9      -29.8\n",
       "1995-05-01   16.9       38.1\n",
       "1995-06-01   -0.3        1.5\n",
       "1995-07-01   -6.2      -51.7"
      ]
     },
     "execution_count": 13,
     "metadata": {},
     "output_type": "execute_result"
    }
   ],
   "source": [
    "df_transformed.head()"
   ]
  },
  {
   "cell_type": "code",
   "execution_count": 14,
   "metadata": {},
   "outputs": [],
   "source": [
    "nobs=12"
   ]
  },
  {
   "cell_type": "code",
   "execution_count": 15,
   "metadata": {},
   "outputs": [],
   "source": [
    "train=df_transformed.iloc[:-nobs]\n",
    "test=df_transformed.iloc[-nobs:]"
   ]
  },
  {
   "cell_type": "markdown",
   "metadata": {},
   "source": [
    "### FITTING THE VARMA MODEL"
   ]
  },
  {
   "cell_type": "code",
   "execution_count": 16,
   "metadata": {},
   "outputs": [],
   "source": [
    "model=VARMAX(train,order=(1,2),trend='c')"
   ]
  },
  {
   "cell_type": "code",
   "execution_count": 17,
   "metadata": {},
   "outputs": [],
   "source": [
    "results=model.fit(maxiter=1000,disp=False)"
   ]
  },
  {
   "cell_type": "code",
   "execution_count": 18,
   "metadata": {},
   "outputs": [
    {
     "data": {
      "text/html": [
       "<table class=\"simpletable\">\n",
       "<caption>Statespace Model Results</caption>\n",
       "<tr>\n",
       "  <th>Dep. Variable:</th>   <td>['Money', 'Spendings']</td> <th>  No. Observations:  </th>    <td>238</td>   \n",
       "</tr>\n",
       "<tr>\n",
       "  <th>Model:</th>                 <td>VARMA(1,2)</td>       <th>  Log Likelihood     </th> <td>-2286.608</td>\n",
       "</tr>\n",
       "<tr>\n",
       "  <th></th>                       <td>+ intercept</td>      <th>  AIC                </th> <td>4607.216</td> \n",
       "</tr>\n",
       "<tr>\n",
       "  <th>Date:</th>               <td>Wed, 02 Dec 2020</td>    <th>  BIC                </th> <td>4666.244</td> \n",
       "</tr>\n",
       "<tr>\n",
       "  <th>Time:</th>                   <td>02:31:52</td>        <th>  HQIC               </th> <td>4631.005</td> \n",
       "</tr>\n",
       "<tr>\n",
       "  <th>Sample:</th>                <td>03-01-1995</td>       <th>                     </th>     <td> </td>    \n",
       "</tr>\n",
       "<tr>\n",
       "  <th></th>                      <td>- 12-01-2014</td>      <th>                     </th>     <td> </td>    \n",
       "</tr>\n",
       "<tr>\n",
       "  <th>Covariance Type:</th>           <td>opg</td>          <th>                     </th>     <td> </td>    \n",
       "</tr>\n",
       "</table>\n",
       "<table class=\"simpletable\">\n",
       "<tr>\n",
       "  <th>Ljung-Box (Q):</th>          <td>68.57, 28.21</td> <th>  Jarque-Bera (JB):  </th> <td>549.34, 121.76</td>\n",
       "</tr>\n",
       "<tr>\n",
       "  <th>Prob(Q):</th>                 <td>0.00, 0.92</td>  <th>  Prob(JB):          </th>   <td>0.00, 0.00</td>  \n",
       "</tr>\n",
       "<tr>\n",
       "  <th>Heteroskedasticity (H):</th>  <td>5.55, 2.93</td>  <th>  Skew:              </th>   <td>1.34, -0.35</td> \n",
       "</tr>\n",
       "<tr>\n",
       "  <th>Prob(H) (two-sided):</th>     <td>0.00, 0.00</td>  <th>  Kurtosis:          </th>   <td>9.94, 6.43</td>  \n",
       "</tr>\n",
       "</table>\n",
       "<table class=\"simpletable\">\n",
       "<caption>Results for equation Money</caption>\n",
       "<tr>\n",
       "         <td></td>            <th>coef</th>     <th>std err</th>      <th>z</th>      <th>P>|z|</th>  <th>[0.025</th>    <th>0.975]</th>  \n",
       "</tr>\n",
       "<tr>\n",
       "  <th>intercept</th>       <td>    0.0683</td> <td>    0.773</td> <td>    0.088</td> <td> 0.930</td> <td>   -1.447</td> <td>    1.584</td>\n",
       "</tr>\n",
       "<tr>\n",
       "  <th>L1.Money</th>        <td>   -1.0207</td> <td>    3.750</td> <td>   -0.272</td> <td> 0.785</td> <td>   -8.370</td> <td>    6.329</td>\n",
       "</tr>\n",
       "<tr>\n",
       "  <th>L1.Spendings</th>    <td>    2.2194</td> <td>    7.368</td> <td>    0.301</td> <td> 0.763</td> <td>  -12.222</td> <td>   16.661</td>\n",
       "</tr>\n",
       "<tr>\n",
       "  <th>L1.e(Money)</th>     <td>    0.2643</td> <td>    3.736</td> <td>    0.071</td> <td> 0.944</td> <td>   -7.058</td> <td>    7.587</td>\n",
       "</tr>\n",
       "<tr>\n",
       "  <th>L1.e(Spendings)</th> <td>   -2.3440</td> <td>    7.371</td> <td>   -0.318</td> <td> 0.750</td> <td>  -16.791</td> <td>   12.103</td>\n",
       "</tr>\n",
       "<tr>\n",
       "  <th>L2.e(Money)</th>     <td>   -1.2862</td> <td>    3.807</td> <td>   -0.338</td> <td> 0.735</td> <td>   -8.748</td> <td>    6.175</td>\n",
       "</tr>\n",
       "<tr>\n",
       "  <th>L2.e(Spendings)</th> <td>    2.0828</td> <td>    6.547</td> <td>    0.318</td> <td> 0.750</td> <td>  -10.748</td> <td>   14.914</td>\n",
       "</tr>\n",
       "</table>\n",
       "<table class=\"simpletable\">\n",
       "<caption>Results for equation Spendings</caption>\n",
       "<tr>\n",
       "         <td></td>            <th>coef</th>     <th>std err</th>      <th>z</th>      <th>P>|z|</th>  <th>[0.025</th>    <th>0.975]</th>  \n",
       "</tr>\n",
       "<tr>\n",
       "  <th>intercept</th>       <td>    0.0923</td> <td>    0.212</td> <td>    0.436</td> <td> 0.663</td> <td>   -0.322</td> <td>    0.507</td>\n",
       "</tr>\n",
       "<tr>\n",
       "  <th>L1.Money</th>        <td>   -0.2078</td> <td>    2.013</td> <td>   -0.103</td> <td> 0.918</td> <td>   -4.152</td> <td>    3.737</td>\n",
       "</tr>\n",
       "<tr>\n",
       "  <th>L1.Spendings</th>    <td>    0.5722</td> <td>    3.772</td> <td>    0.152</td> <td> 0.879</td> <td>   -6.820</td> <td>    7.964</td>\n",
       "</tr>\n",
       "<tr>\n",
       "  <th>L1.e(Money)</th>     <td>    0.3221</td> <td>    2.072</td> <td>    0.155</td> <td> 0.876</td> <td>   -3.739</td> <td>    4.383</td>\n",
       "</tr>\n",
       "<tr>\n",
       "  <th>L1.e(Spendings)</th> <td>   -1.5294</td> <td>    3.753</td> <td>   -0.408</td> <td> 0.684</td> <td>   -8.885</td> <td>    5.826</td>\n",
       "</tr>\n",
       "<tr>\n",
       "  <th>L2.e(Money)</th>     <td>   -0.3187</td> <td>    2.112</td> <td>   -0.151</td> <td> 0.880</td> <td>   -4.458</td> <td>    3.821</td>\n",
       "</tr>\n",
       "<tr>\n",
       "  <th>L2.e(Spendings)</th> <td>    0.5757</td> <td>    3.318</td> <td>    0.174</td> <td> 0.862</td> <td>   -5.927</td> <td>    7.079</td>\n",
       "</tr>\n",
       "</table>\n",
       "<table class=\"simpletable\">\n",
       "<caption>Error covariance matrix</caption>\n",
       "<tr>\n",
       "              <td></td>                <th>coef</th>     <th>std err</th>      <th>z</th>      <th>P>|z|</th>  <th>[0.025</th>    <th>0.975]</th>  \n",
       "</tr>\n",
       "<tr>\n",
       "  <th>sqrt.var.Money</th>           <td>   25.7384</td> <td>    2.343</td> <td>   10.985</td> <td> 0.000</td> <td>   21.146</td> <td>   30.331</td>\n",
       "</tr>\n",
       "<tr>\n",
       "  <th>sqrt.cov.Money.Spendings</th> <td>  -10.0137</td> <td>    1.948</td> <td>   -5.141</td> <td> 0.000</td> <td>  -13.832</td> <td>   -6.196</td>\n",
       "</tr>\n",
       "<tr>\n",
       "  <th>sqrt.var.Spendings</th>       <td>   34.1906</td> <td>    1.287</td> <td>   26.568</td> <td> 0.000</td> <td>   31.668</td> <td>   36.713</td>\n",
       "</tr>\n",
       "</table><br/><br/>Warnings:<br/>[1] Covariance matrix calculated using the outer product of gradients (complex-step)."
      ],
      "text/plain": [
       "<class 'statsmodels.iolib.summary.Summary'>\n",
       "\"\"\"\n",
       "                             Statespace Model Results                             \n",
       "==================================================================================\n",
       "Dep. Variable:     ['Money', 'Spendings']   No. Observations:                  238\n",
       "Model:                         VARMA(1,2)   Log Likelihood               -2286.608\n",
       "                              + intercept   AIC                           4607.216\n",
       "Date:                    Wed, 02 Dec 2020   BIC                           4666.244\n",
       "Time:                            02:31:52   HQIC                          4631.005\n",
       "Sample:                        03-01-1995                                         \n",
       "                             - 12-01-2014                                         \n",
       "Covariance Type:                      opg                                         \n",
       "===================================================================================\n",
       "Ljung-Box (Q):                68.57, 28.21   Jarque-Bera (JB):       549.34, 121.76\n",
       "Prob(Q):                        0.00, 0.92   Prob(JB):                   0.00, 0.00\n",
       "Heteroskedasticity (H):         5.55, 2.93   Skew:                      1.34, -0.35\n",
       "Prob(H) (two-sided):            0.00, 0.00   Kurtosis:                   9.94, 6.43\n",
       "                             Results for equation Money                            \n",
       "===================================================================================\n",
       "                      coef    std err          z      P>|z|      [0.025      0.975]\n",
       "-----------------------------------------------------------------------------------\n",
       "intercept           0.0683      0.773      0.088      0.930      -1.447       1.584\n",
       "L1.Money           -1.0207      3.750     -0.272      0.785      -8.370       6.329\n",
       "L1.Spendings        2.2194      7.368      0.301      0.763     -12.222      16.661\n",
       "L1.e(Money)         0.2643      3.736      0.071      0.944      -7.058       7.587\n",
       "L1.e(Spendings)    -2.3440      7.371     -0.318      0.750     -16.791      12.103\n",
       "L2.e(Money)        -1.2862      3.807     -0.338      0.735      -8.748       6.175\n",
       "L2.e(Spendings)     2.0828      6.547      0.318      0.750     -10.748      14.914\n",
       "                           Results for equation Spendings                          \n",
       "===================================================================================\n",
       "                      coef    std err          z      P>|z|      [0.025      0.975]\n",
       "-----------------------------------------------------------------------------------\n",
       "intercept           0.0923      0.212      0.436      0.663      -0.322       0.507\n",
       "L1.Money           -0.2078      2.013     -0.103      0.918      -4.152       3.737\n",
       "L1.Spendings        0.5722      3.772      0.152      0.879      -6.820       7.964\n",
       "L1.e(Money)         0.3221      2.072      0.155      0.876      -3.739       4.383\n",
       "L1.e(Spendings)    -1.5294      3.753     -0.408      0.684      -8.885       5.826\n",
       "L2.e(Money)        -0.3187      2.112     -0.151      0.880      -4.458       3.821\n",
       "L2.e(Spendings)     0.5757      3.318      0.174      0.862      -5.927       7.079\n",
       "                                  Error covariance matrix                                   \n",
       "============================================================================================\n",
       "                               coef    std err          z      P>|z|      [0.025      0.975]\n",
       "--------------------------------------------------------------------------------------------\n",
       "sqrt.var.Money              25.7384      2.343     10.985      0.000      21.146      30.331\n",
       "sqrt.cov.Money.Spendings   -10.0137      1.948     -5.141      0.000     -13.832      -6.196\n",
       "sqrt.var.Spendings          34.1906      1.287     26.568      0.000      31.668      36.713\n",
       "============================================================================================\n",
       "\n",
       "Warnings:\n",
       "[1] Covariance matrix calculated using the outer product of gradients (complex-step).\n",
       "\"\"\""
      ]
     },
     "execution_count": 18,
     "metadata": {},
     "output_type": "execute_result"
    }
   ],
   "source": [
    "results.summary()"
   ]
  },
  {
   "cell_type": "markdown",
   "metadata": {},
   "source": [
    "#### FORECASTING"
   ]
  },
  {
   "cell_type": "code",
   "execution_count": 19,
   "metadata": {},
   "outputs": [],
   "source": [
    "df_forecast=results.forecast(12)"
   ]
  },
  {
   "cell_type": "code",
   "execution_count": 20,
   "metadata": {},
   "outputs": [
    {
     "data": {
      "text/html": [
       "<div>\n",
       "<style scoped>\n",
       "    .dataframe tbody tr th:only-of-type {\n",
       "        vertical-align: middle;\n",
       "    }\n",
       "\n",
       "    .dataframe tbody tr th {\n",
       "        vertical-align: top;\n",
       "    }\n",
       "\n",
       "    .dataframe thead th {\n",
       "        text-align: right;\n",
       "    }\n",
       "</style>\n",
       "<table border=\"1\" class=\"dataframe\">\n",
       "  <thead>\n",
       "    <tr style=\"text-align: right;\">\n",
       "      <th></th>\n",
       "      <th>Money</th>\n",
       "      <th>Spendings</th>\n",
       "    </tr>\n",
       "  </thead>\n",
       "  <tbody>\n",
       "    <tr>\n",
       "      <th>2015-01-01</th>\n",
       "      <td>-11.283546</td>\n",
       "      <td>33.124088</td>\n",
       "    </tr>\n",
       "    <tr>\n",
       "      <th>2015-02-01</th>\n",
       "      <td>-10.594356</td>\n",
       "      <td>-4.143828</td>\n",
       "    </tr>\n",
       "    <tr>\n",
       "      <th>2015-03-01</th>\n",
       "      <td>1.685305</td>\n",
       "      <td>-0.077187</td>\n",
       "    </tr>\n",
       "    <tr>\n",
       "      <th>2015-04-01</th>\n",
       "      <td>-1.823164</td>\n",
       "      <td>-0.302062</td>\n",
       "    </tr>\n",
       "    <tr>\n",
       "      <th>2015-05-01</th>\n",
       "      <td>1.258843</td>\n",
       "      <td>0.298354</td>\n",
       "    </tr>\n",
       "    <tr>\n",
       "      <th>2015-06-01</th>\n",
       "      <td>-0.554415</td>\n",
       "      <td>0.001446</td>\n",
       "    </tr>\n",
       "    <tr>\n",
       "      <th>2015-07-01</th>\n",
       "      <td>0.637427</td>\n",
       "      <td>0.208365</td>\n",
       "    </tr>\n",
       "    <tr>\n",
       "      <th>2015-08-01</th>\n",
       "      <td>-0.119855</td>\n",
       "      <td>0.079089</td>\n",
       "    </tr>\n",
       "    <tr>\n",
       "      <th>2015-09-01</th>\n",
       "      <td>0.366192</td>\n",
       "      <td>0.162487</td>\n",
       "    </tr>\n",
       "    <tr>\n",
       "      <th>2015-10-01</th>\n",
       "      <td>0.055175</td>\n",
       "      <td>0.109203</td>\n",
       "    </tr>\n",
       "    <tr>\n",
       "      <th>2015-11-01</th>\n",
       "      <td>0.254373</td>\n",
       "      <td>0.143346</td>\n",
       "    </tr>\n",
       "    <tr>\n",
       "      <th>2015-12-01</th>\n",
       "      <td>0.126827</td>\n",
       "      <td>0.121487</td>\n",
       "    </tr>\n",
       "  </tbody>\n",
       "</table>\n",
       "</div>"
      ],
      "text/plain": [
       "                Money  Spendings\n",
       "2015-01-01 -11.283546  33.124088\n",
       "2015-02-01 -10.594356  -4.143828\n",
       "2015-03-01   1.685305  -0.077187\n",
       "2015-04-01  -1.823164  -0.302062\n",
       "2015-05-01   1.258843   0.298354\n",
       "2015-06-01  -0.554415   0.001446\n",
       "2015-07-01   0.637427   0.208365\n",
       "2015-08-01  -0.119855   0.079089\n",
       "2015-09-01   0.366192   0.162487\n",
       "2015-10-01   0.055175   0.109203\n",
       "2015-11-01   0.254373   0.143346\n",
       "2015-12-01   0.126827   0.121487"
      ]
     },
     "execution_count": 20,
     "metadata": {},
     "output_type": "execute_result"
    }
   ],
   "source": [
    "df_forecast"
   ]
  },
  {
   "cell_type": "code",
   "execution_count": 22,
   "metadata": {},
   "outputs": [],
   "source": [
    "# Add the most recent first difference from the training side of the original dataset to the forecast cumulative sum\n",
    "df_forecast['Money_1']=df_forecast['Money'].cumsum()+(df['Money'].iloc[-nobs-1]-df['Money'].iloc[-nobs-2])\n",
    "\n",
    "# Now build the forecast values from the first difference set\n",
    "df_forecast['MoneyForecast']=df_forecast['Money_1'].cumsum()+df['Money'].iloc[-nobs-1]"
   ]
  },
  {
   "cell_type": "code",
   "execution_count": 23,
   "metadata": {},
   "outputs": [],
   "source": [
    "# Add the most recent first difference from the training side of the original dataset to the forecast cumulative sum\n",
    "df_forecast['Spendings_1']=df_forecast['Spendings'].cumsum()+(df['Spendings'].iloc[-nobs-1]-df['Spendings'].iloc[-nobs-2])\n",
    "\n",
    "# Now build the forecast values from the first difference set\n",
    "df_forecast['SpendingsForecast']=df_forecast['Spendings_1'].cumsum()+df['Spendings'].iloc[-nobs-1]"
   ]
  },
  {
   "cell_type": "code",
   "execution_count": 24,
   "metadata": {},
   "outputs": [
    {
     "data": {
      "text/html": [
       "<div>\n",
       "<style scoped>\n",
       "    .dataframe tbody tr th:only-of-type {\n",
       "        vertical-align: middle;\n",
       "    }\n",
       "\n",
       "    .dataframe tbody tr th {\n",
       "        vertical-align: top;\n",
       "    }\n",
       "\n",
       "    .dataframe thead th {\n",
       "        text-align: right;\n",
       "    }\n",
       "</style>\n",
       "<table border=\"1\" class=\"dataframe\">\n",
       "  <thead>\n",
       "    <tr style=\"text-align: right;\">\n",
       "      <th></th>\n",
       "      <th>Money</th>\n",
       "      <th>Spendings</th>\n",
       "      <th>Money_1</th>\n",
       "      <th>MoneyForecast</th>\n",
       "      <th>Spendings_1</th>\n",
       "      <th>SpendingsForecast</th>\n",
       "    </tr>\n",
       "  </thead>\n",
       "  <tbody>\n",
       "    <tr>\n",
       "      <th>2015-01-01</th>\n",
       "      <td>-11.283546</td>\n",
       "      <td>33.124088</td>\n",
       "      <td>66.116454</td>\n",
       "      <td>11734.116454</td>\n",
       "      <td>47.924088</td>\n",
       "      <td>12112.924088</td>\n",
       "    </tr>\n",
       "    <tr>\n",
       "      <th>2015-02-01</th>\n",
       "      <td>-10.594356</td>\n",
       "      <td>-4.143828</td>\n",
       "      <td>55.522098</td>\n",
       "      <td>11789.638552</td>\n",
       "      <td>43.780260</td>\n",
       "      <td>12156.704348</td>\n",
       "    </tr>\n",
       "    <tr>\n",
       "      <th>2015-03-01</th>\n",
       "      <td>1.685305</td>\n",
       "      <td>-0.077187</td>\n",
       "      <td>57.207404</td>\n",
       "      <td>11846.845956</td>\n",
       "      <td>43.703074</td>\n",
       "      <td>12200.407422</td>\n",
       "    </tr>\n",
       "    <tr>\n",
       "      <th>2015-04-01</th>\n",
       "      <td>-1.823164</td>\n",
       "      <td>-0.302062</td>\n",
       "      <td>55.384239</td>\n",
       "      <td>11902.230196</td>\n",
       "      <td>43.401012</td>\n",
       "      <td>12243.808433</td>\n",
       "    </tr>\n",
       "    <tr>\n",
       "      <th>2015-05-01</th>\n",
       "      <td>1.258843</td>\n",
       "      <td>0.298354</td>\n",
       "      <td>56.643083</td>\n",
       "      <td>11958.873278</td>\n",
       "      <td>43.699365</td>\n",
       "      <td>12287.507798</td>\n",
       "    </tr>\n",
       "    <tr>\n",
       "      <th>2015-06-01</th>\n",
       "      <td>-0.554415</td>\n",
       "      <td>0.001446</td>\n",
       "      <td>56.088668</td>\n",
       "      <td>12014.961947</td>\n",
       "      <td>43.700811</td>\n",
       "      <td>12331.208610</td>\n",
       "    </tr>\n",
       "    <tr>\n",
       "      <th>2015-07-01</th>\n",
       "      <td>0.637427</td>\n",
       "      <td>0.208365</td>\n",
       "      <td>56.726095</td>\n",
       "      <td>12071.688042</td>\n",
       "      <td>43.909176</td>\n",
       "      <td>12375.117785</td>\n",
       "    </tr>\n",
       "    <tr>\n",
       "      <th>2015-08-01</th>\n",
       "      <td>-0.119855</td>\n",
       "      <td>0.079089</td>\n",
       "      <td>56.606240</td>\n",
       "      <td>12128.294282</td>\n",
       "      <td>43.988265</td>\n",
       "      <td>12419.106050</td>\n",
       "    </tr>\n",
       "    <tr>\n",
       "      <th>2015-09-01</th>\n",
       "      <td>0.366192</td>\n",
       "      <td>0.162487</td>\n",
       "      <td>56.972433</td>\n",
       "      <td>12185.266715</td>\n",
       "      <td>44.150752</td>\n",
       "      <td>12463.256803</td>\n",
       "    </tr>\n",
       "    <tr>\n",
       "      <th>2015-10-01</th>\n",
       "      <td>0.055175</td>\n",
       "      <td>0.109203</td>\n",
       "      <td>57.027608</td>\n",
       "      <td>12242.294323</td>\n",
       "      <td>44.259956</td>\n",
       "      <td>12507.516759</td>\n",
       "    </tr>\n",
       "    <tr>\n",
       "      <th>2015-11-01</th>\n",
       "      <td>0.254373</td>\n",
       "      <td>0.143346</td>\n",
       "      <td>57.281981</td>\n",
       "      <td>12299.576304</td>\n",
       "      <td>44.403301</td>\n",
       "      <td>12551.920060</td>\n",
       "    </tr>\n",
       "    <tr>\n",
       "      <th>2015-12-01</th>\n",
       "      <td>0.126827</td>\n",
       "      <td>0.121487</td>\n",
       "      <td>57.408808</td>\n",
       "      <td>12356.985112</td>\n",
       "      <td>44.524789</td>\n",
       "      <td>12596.444849</td>\n",
       "    </tr>\n",
       "  </tbody>\n",
       "</table>\n",
       "</div>"
      ],
      "text/plain": [
       "                Money  Spendings  ...  Spendings_1  SpendingsForecast\n",
       "2015-01-01 -11.283546  33.124088  ...    47.924088       12112.924088\n",
       "2015-02-01 -10.594356  -4.143828  ...    43.780260       12156.704348\n",
       "2015-03-01   1.685305  -0.077187  ...    43.703074       12200.407422\n",
       "2015-04-01  -1.823164  -0.302062  ...    43.401012       12243.808433\n",
       "2015-05-01   1.258843   0.298354  ...    43.699365       12287.507798\n",
       "2015-06-01  -0.554415   0.001446  ...    43.700811       12331.208610\n",
       "2015-07-01   0.637427   0.208365  ...    43.909176       12375.117785\n",
       "2015-08-01  -0.119855   0.079089  ...    43.988265       12419.106050\n",
       "2015-09-01   0.366192   0.162487  ...    44.150752       12463.256803\n",
       "2015-10-01   0.055175   0.109203  ...    44.259956       12507.516759\n",
       "2015-11-01   0.254373   0.143346  ...    44.403301       12551.920060\n",
       "2015-12-01   0.126827   0.121487  ...    44.524789       12596.444849\n",
       "\n",
       "[12 rows x 6 columns]"
      ]
     },
     "execution_count": 24,
     "metadata": {},
     "output_type": "execute_result"
    }
   ],
   "source": [
    "df_forecast"
   ]
  },
  {
   "cell_type": "code",
   "execution_count": 28,
   "metadata": {},
   "outputs": [],
   "source": [
    "X=pd.concat([df.iloc[-12:],df_forecast[['MoneyForecast','SpendingsForecast']]],axis=1)"
   ]
  },
  {
   "cell_type": "code",
   "execution_count": 32,
   "metadata": {},
   "outputs": [
    {
     "data": {
      "text/plain": [
       "<AxesSubplot:>"
      ]
     },
     "execution_count": 32,
     "metadata": {},
     "output_type": "execute_result"
    },
    {
     "data": {
      "image/png": "[encoded data removed]",
      "text/plain": [
       "<Figure size 864x432 with 1 Axes>"
      ]
     },
     "metadata": {
      "needs_background": "light"
     },
     "output_type": "display_data"
    }
   ],
   "source": [
    "X[['Money','MoneyForecast']].plot(figsize=(12,6))"
   ]
  },
  {
   "cell_type": "code",
   "execution_count": 33,
   "metadata": {},
   "outputs": [
    {
     "data": {
      "text/plain": [
       "<AxesSubplot:>"
      ]
     },
     "execution_count": 33,
     "metadata": {},
     "output_type": "execute_result"
    },
    {
     "data": {
      "image/png": "[encoded data removed]",
      "text/plain": [
       "<Figure size 864x432 with 1 Axes>"
      ]
     },
     "metadata": {
      "needs_background": "light"
     },
     "output_type": "display_data"
    }
   ],
   "source": [
    "X[['Spendings','SpendingsForecast']].plot(figsize=(12,6))"
   ]
  },
  {
   "cell_type": "code",
   "execution_count": null,
   "metadata": {},
   "outputs": [],
   "source": []
  }
 ],
 "metadata": {
  "kernelspec": {
   "display_name": "Python 3",
   "language": "python",
   "name": "python3"
  },
  "language_info": {
   "codemirror_mode": {
    "name": "ipython",
    "version": 3
   },
   "file_extension": ".py",
   "mimetype": "text/x-python",
   "name": "python",
   "nbconvert_exporter": "python",
   "pygments_lexer": "ipython3",
   "version": "3.6.12"
  }
 },
 "nbformat": 4,
 "nbformat_minor": 4
}
